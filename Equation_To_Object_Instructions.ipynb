{
 "cells": [
  {
   "cell_type": "markdown",
   "metadata": {},
   "source": [
    "# Turning An Equation Into An Object\n",
    "#### A description of the series of steps I used to successfully turn a set of parametric equations into a physical object, using Apple Grapher, Python, JupyterLab, NumPy, Mayavi, PyMeshLab and Shapeways"
   ]
  },
  {
   "cell_type": "markdown",
   "metadata": {},
   "source": [
    "#### From this: <img style=\"display: inline;\" src=\"images/ruffle_equation.png\"> \n",
    "#### to this: <img style=\"display: inline;\" src=\"images/wrapped_ruffle.png\"> \n",
    "#### to this: <img style=\"display: inline;\" src=\"images/printed.png\">"
   ]
  },
  {
   "cell_type": "markdown",
   "metadata": {},
   "source": [
    "## Preamble\n",
    "\n",
    "Chances are good that if your education proceeded as far as high school, at some point in your math curriculum you were exposed to the concept of equations, and that you learned how to draw graphs of some simple equations.  If so, you're familiar with the notion that a mathematical thing can have a shape.  You may also have seen examples of this notion applied to three-dimensional shapes.  Given the much-hyped advent of affordable 3D printing, you might wonder if it is possible for someone who knows a little bit of math, and a little bit about computers, to come up with a mathematical thing with an interesting shape, and somehow turn that shape into a physical object.  \n",
    "\n",
    "I wondered that, and I tried to do it, and I succeeded.  I found a lot of information on the Internet, but nothing that described this process end-to-end in a way that worked for me, so I synthesized various bits and pieces I found in various places, and I went through a lot of trial and error and a lot of dead ends and pitfalls.  The whole time, I knew that it might be the case that what I was trying to accomplish was not possible at all, or at the very least not feasible for one non-expert to attempt as a hobby project.  I provide this writeup so that someone else who has wondered the same thing can know ahead of time that the answer is *yes, it is possible*.  \n",
    "\n",
    "This is not a comprehensive set of instructions.  It does not describe in a general way how anyone should go about accomplishing a particular task, in that 1.) it does not describe how to customize the procedure to your own purposes, 2.) it does not describe how to adapt the procedure to varying prerequisites, 3.) it does not include extensive advice on how to recover from errors and 4.) it isn't even necessarily the best way I could have done it.  It is a record of a particular workflow that I know works.  I provide it on the theory that, when one is working with a complex heterogeneous set of interacting tools and parameters, it is often easier to start by replicating a workflow that is known to have worked, and then modifying it to your own purposes, debugging one modification at a time, than it is to develop an entire toolchain on your own, ex nihilo.  "
   ]
  },
  {
   "cell_type": "markdown",
   "metadata": {},
   "source": [
    "## Prerequisites\n",
    "Here are the things I started with when I embarked on this project:  \n",
    "* A MacBook Pro from 2013, running OS X Yosemite (Newer machines and newer operating systems also work, I'm just pointing out that you don't need the latest)\n",
    "* Some experience scripting with [Python][1]\n",
    "* Fuzzy memories of high school algebra and trigonometry\n",
    "* An account at [Shapeways][2]\n",
    "\n",
    "You can do all the same things on a Windows or Linux PC, or using another 3D printing service or even your own 3D printer, but these are the things I used, and this tutorial assumes you have them, too.  \n",
    "\n",
    "Since then I've packaged up some of the tools I used along the way using Docker, so you won't have to go through the painful process of installing, configuring, and in some cases even compiling those tools.  Still, you'll need to install a few things for this to work:  \n",
    "\n",
    "* [Docker Desktop][3]\n",
    "* [MeshLab][5]\n",
    "\n",
    "(If you're reading this notebook on your own machine instead of on Github, chances are you've already succeeded at setting all this up.  This is for people previewing the instructions on the Internet.)  \n",
    "\n",
    "Once you've installed the prerequisites, obtain the shell script [start_anethole.command][6] from https://github.com/jjpr/anethole, either by cloning the repository from GitHub, or by downloading the script via the \"Raw\" link on its listing on GitHub.  Run the shell script.  The script downloads a Docker image (be forewarned:  the download will take time), runs a container based on it, and starts JupyterLab.  If all goes well, your browser will open, showing the JupyterLab interface.  Navigate to the examples directory, and open the Equation To Object Instructions notebook.  \n",
    "\n",
    "[1]: http://www.python.org/\n",
    "[2]: http://www.shapeways.com/\n",
    "[3]: https://www.docker.com/products/docker-desktop\n",
    "[5]: https://www.meshlab.net/\n",
    "[6]: https://github.com/jjpr/anethole/raw/master/start_anethole.command"
   ]
  },
  {
   "cell_type": "markdown",
   "metadata": {},
   "source": [
    "## About This Notebook\n",
    "\n",
    "The web page you are reading is provided by [JupyterLab][1], running an [iPython][2] kernel.  iPython makes it easy to execute Python code interactively, a little bit at a time.  JupyterLab wraps up iPython sessions in a convenient interface in your web browser.  This provides a user-friendly environment called a notebook where we can experiment with Python code.  \n",
    "\n",
    "A notebook is composed of cells.  A cell can either contain information to be read by the user, or code to be executed by the iPython kernel.  The simplest way to use this notebook is to go through it in order, read the information, and execute the code cells.  To execute a code cell, click on it to highlight it, then press Shift-Return.  \n",
    "\n",
    "Later, you should experiment with your own code by navigating to the `notebooks` directory and creating a new notebook.  When you ran the shell script to start the notebook server, Docker mapped the notebook server's `notebooks` directory to your local filesystem at `~/Documents/anethole-notebooks/data/notebooks`;  any files you create there are accessible via Finder.  From the perspective of the notebook, running inside the container, those files are in the directory `/data/notebooks`.  \n",
    "\n",
    "[1]: http://jupyter.org/\n",
    "[2]: https://ipython.org/"
   ]
  },
  {
   "cell_type": "markdown",
   "metadata": {},
   "source": [
    "## Noodling In Grapher\n",
    "Recent versions of OS X come with a program called Grapher.  I have the impression that Grapher has a wide range of impressive capabilities, but I use it as an equation editor and a graphing calculator.  It makes an excellent environment for experimenting with various mathematical things and seeing what they look like.  There are other more elaborate tools out there that will do the same thing, but this one is quick and easy to learn and comes free with every Mac.  \n",
    "\n",
    "Grapher's equation editor lets you make equations that look the same as what you'd write on paper, with horizontal lines for division, superscripts for exponents, etc.  It may be unfamiliar, it's not like a word processor or a spreadsheet, but with a little practice you'll be able to write basic equations quickly and easily.  \n",
    "\n",
    "Open Grapher.  An easy way is to invoke Spotlight with cmd-space, type \"grapher\" and hit enter.  You should see a \"New Graph\" dialog.  Start with a simple 2D graph.  With \"2D Graph\" selected at the top, and \"Default\" selected in the left pane, click \"Choose\".  You'll see a graph window, with the beginnings of an equation already set up for you:  \"y=\".  Type \"x\" then type the \"^\" character.  The \"^\" will create a box for a superscript.  Type \"2\" and the 2 should appear in the superscript box.  Hit enter, and Grapher shows a parabola, the shape of $y=x^{2}$.  \n",
    "\n",
    "Noodle around for a bit.  Click the plus sign in the lower left corner, and select \"New Equation\".  Add an equation and see what it looks like.  If you want to add a horizontal line for a fraction, type \"/\".  With experimentation and Googling, you'll be able to figure out lots of similar shortcuts.  In the Git repository with this notebook, there's a Grapher file called \"basic_curves.gcx\".  It contains a handful of simple equations.  I made it for myself as a kind of catalog;  if I'm playing with a shape and I want to give it a curvature that's symmetric about y=x, I can see at a glance that $y=\\frac{1}{x}$ is a good place to start.  You may want to make a similar catalog for yourself with simple features you want to use as aspects of more complex shapes.  "
   ]
  },
  {
   "cell_type": "markdown",
   "metadata": {},
   "source": [
    "## A Simple Example\n",
    "Let's start with a simple example of an equation that has an interesting shape.  We'll enter it in Grapher as an equation, then we'll translate that equation into Python code in JupyterLab, and we'll get Mayavi to display it.  \n",
    "\n",
    "Here's the equation:  \n",
    "\n",
    "$$\n",
    "\\left[ \\begin{array}{c} x \\\\ y \\\\ z \\end{array} \\right]=\\left[ \\begin{array}{c} \\sin \\left( t \\right) \\\\ \\sin \\left( u \\right) \\\\ \\cos \\left( u \\right)-\\cos \\left( t \\right) \\end{array} \\right],\\; t=-\\frac{\\pi }{2}…\\frac{\\pi }{2},\\; u=-\\frac{\\pi }{2}…\\frac{\\pi }{2}\n",
    "$$\n",
    "\n",
    "If trigonometry wasn't easy for you (you're not alone) then maybe it doesn't seem simple.  But it's easy to enter it into Grapher, and looks interesting, so it's not a bad place to start.  \n",
    "\n",
    "In Grapher, create a 3D graph (hit Command-N, and in the dialog that appears, select the 3D Graph tab, choose a color scheme, and click Choose).  In the lower-left corner, there is a button with a plus sign on it.  Click it, and then click New Equation From Template... on the menu that appears.  In the dialog that appears, choose Cartesian Surface, and click OK.  Grapher fills in a skeleton that has the same format as the equation above.  By clicking around in the varous brackets and boxes, you can fill in the skeleton to look just like the equation above.  Once you have it looking like you think it's supposed to, hit Enter.  You should see something that looks like this:  \n",
    "\n",
    "![Saddle Equation in Grapher](images/saddle_grapher.png)\n",
    "\n",
    "If you want to skip practicing editing in Grapher, you can look in the grapher directory in this project's Git repository for saddle.gcx.  \n",
    "\n",
    "Handy tip:  if you right-click on an equation in Grapher and select \"Copy LaTeX Expression\" you can paste it into any text cell in an iPython notebook.  Surround it with double dollar signs (`$$<LaTeX expression>$$`) and it will appear as an equation in the notebook.  "
   ]
  },
  {
   "cell_type": "markdown",
   "metadata": {},
   "source": [
    "## Translating Equations to Python\n",
    "\n",
    "Now it's time to translate this equation we've come up with into Python code so that we can use tools written in Python to work with it and to turn it into a 3D-printable format.  "
   ]
  },
  {
   "cell_type": "markdown",
   "metadata": {},
   "source": [
    "### Setup\n",
    "\n",
    "First we need to do some initial setup.  The first cell below sets up a graphics environment for Mayavi.  The second cell tells Python to set up some tools from the installed libraries so that we can refer to them by name.  [Numpy][1] is a widely-used library that supports efficient numerical computation on things like arrays and matrices.  [Mayavi][2] is a 3D visualization toolkit made by [Enthought][3].\n",
    "\n",
    "Go ahead and execute those two cells now.  Note:  when you execute the second cell, you'll get a warning about an environment variable.  It's safe to ignore it.  \n",
    "\n",
    "[1]: http://www.numpy.org/\n",
    "[2]: https://mayavi.readthedocs.io/\n",
    "[3]: https://www.enthought.com/"
   ]
  },
  {
   "cell_type": "code",
   "execution_count": 1,
   "metadata": {},
   "outputs": [],
   "source": [
    "from xvfbwrapper import Xvfb\n",
    "vdisplay = Xvfb(width=1920, height=1080)\n",
    "vdisplay.start()"
   ]
  },
  {
   "cell_type": "code",
   "execution_count": 2,
   "metadata": {},
   "outputs": [
    {
     "name": "stderr",
     "output_type": "stream",
     "text": [
      "/usr/local/lib/python3.8/site-packages/traits/etsconfig/etsconfig.py:412: UserWarning: Environment variable \"HOME\" not set, setting home directory to /tmp\n",
      "  warn(\n"
     ]
    },
    {
     "name": "stdout",
     "output_type": "stream",
     "text": [
      "Notebook initialized with ipy backend.\n"
     ]
    }
   ],
   "source": [
    "from numpy import pi, sin, cos, mgrid\n",
    "from mayavi import mlab\n",
    "import pymeshlab\n",
    "mlab.init_notebook()"
   ]
  },
  {
   "cell_type": "markdown",
   "metadata": {},
   "source": [
    "### The Equation As a Python Function\n",
    "Our equation can be thought of as a relationship between any two numbers `t` and `u` and a list of three numbers `x` `y` and `z`.  That is, if you choose specific numbers for `t` and `u`, you can find out corresponding values for `x` `y` and `z`.  That concept can be expressed as a Python function that takes two arguments `t` and `u` and returns a tuple of `x` `y` and `z`.  Take a look at the cell below, then execute it.  "
   ]
  },
  {
   "cell_type": "code",
   "execution_count": 3,
   "metadata": {},
   "outputs": [],
   "source": [
    "def saddle(t, u):\n",
    "    x = sin(t)\n",
    "    y = sin(u)\n",
    "    z = cos(u) - cos(t)\n",
    "    return (x, y, z)"
   ]
  },
  {
   "cell_type": "markdown",
   "metadata": {},
   "source": [
    "### Making A Parameter Grid\n",
    "The equation we came up with is called a parametric equation.  It maps the parameters `t` and `u`, which can be thought of as the coordinates of points on a two-dimensional surface, to the coordinates `x` `y` and `z` in a three-dimensional space.  To make things concrete, we have to come up with a set of specific parameters.  The `mgrid` object from the library `numpy` is a way to do that.  We give it a start, an end and an increment in each of the two dimensions.  It gives us two two-dimensional matrices, one with `t` coordinates, and one with `u` coordinates.  Execute the cell below to create those matrices.  "
   ]
  },
  {
   "cell_type": "code",
   "execution_count": 4,
   "metadata": {},
   "outputs": [],
   "source": [
    "dt, du = 0.05*pi, 0.05*pi\n",
    "t, u = mgrid[-0.5*pi:0.5*pi+dt:dt, -0.5*pi:0.5*pi+du:du]"
   ]
  },
  {
   "cell_type": "markdown",
   "metadata": {},
   "source": [
    "### Making A `mayavi.mlab` Mesh\n",
    "We can do mathematical operations like addition, subtraction and sine on a numpy matrix, and numpy will in most cases apply the operation to each value in the matrix.  That means we can take the numpy matrices `t` and `u` and feed them to our `saddle()` function, and the `x` `y` and `z` variables returned will be matrices.  Together, they represent the coordinates of points on the surface defined by our equation.  Because each variable is a two-dimensional matrix, each position in the matrix gives us the x, y and z coordinates of a point on our surface, and we can look in the next column or the next row to find that point's neighbors.  \n",
    "\n",
    "Mayavi's `mlab.mesh()` method takes a set of three matrices like this, and produces a visualization of the resulting surface.  The asterisk unpacks the tuple returned by our function so its contents are passed as three separate arguments.  \n",
    "\n",
    "A demo that shows how to use this method is available in [Mayavi's documentation][1].  \n",
    "\n",
    "Execute the cell below.  You should see a 3D figure of our surface.  Click and drag to rotate the figure. \n",
    "\n",
    "[1]: https://mayavi.readthedocs.io/en/latest/mlab.html#a-demo"
   ]
  },
  {
   "cell_type": "code",
   "execution_count": 5,
   "metadata": {},
   "outputs": [
    {
     "data": {
      "application/vnd.jupyter.widget-view+json": {
       "model_id": "dedddff8113e49dab4b418fb4df71587",
       "version_major": 2,
       "version_minor": 0
      },
      "text/plain": [
       "Image(value=b'\\x89PNG\\r\\n\\x1a\\n\\x00\\x00\\x00\\rIHDR\\x00\\x00\\x01\\x90\\x00\\x00\\x01^\\x08\\x02\\x00\\x00\\x00$?\\xde_\\x00\\…"
      ]
     },
     "metadata": {},
     "output_type": "display_data"
    }
   ],
   "source": [
    "fig1 = mlab.figure()\n",
    "mlab.mesh(*saddle(t, u), figure=fig1)\n",
    "fig1"
   ]
  },
  {
   "cell_type": "markdown",
   "metadata": {},
   "source": [
    "So now we have a representation of the shape of our equation that we can work with using Python tools.  Now let's take a look at a more complex example, and see how we can make it ready for a 3D printer.  "
   ]
  },
  {
   "cell_type": "markdown",
   "metadata": {},
   "source": [
    "## A More Complex Example\n",
    "We won't work through creating this equation in Grapher, or how to translate it to Python.  It's just here to give us an interesting shape to send to the 3D printer.  Execute each of the code cells in order.  \n",
    "\n",
    "This equation:  \n",
    "$$\n",
    "\\left[ \\begin{array}{c} x \\\\ y \\\\ z \\end{array} \\right]=\\left[ \\begin{array}{c} \\frac{\\sin \\left( u\\; \\cos \\left( 6v \\right) \\right)}{\\cos \\left( 6v \\right)} \\\\ v\\; +\\; \\left( \\frac{u\\; \\sin \\left( 12v \\right)}{2^{3}} \\right) \\\\ \\frac{1-\\cos \\left( u\\; \\cos \\left( 6v \\right) \\right)}{\\cos \\left( 6v \\right)} \\end{array} \\right]\n",
    "$$\n",
    "can be translated into the Python function below:  "
   ]
  },
  {
   "cell_type": "code",
   "execution_count": 6,
   "metadata": {},
   "outputs": [],
   "source": [
    "def ruffle(u, v):\n",
    "    x = sin(u * cos(v*6)) / cos(v*6)\n",
    "    y = v + (u * sin(12*v)/2**3)\n",
    "    z = (1 - cos(u * cos(v*6))) / cos(v*6)\n",
    "    return (x, y, z)"
   ]
  },
  {
   "cell_type": "markdown",
   "metadata": {},
   "source": [
    "This function will wrap another function in a circle around the z axis:  "
   ]
  },
  {
   "cell_type": "code",
   "execution_count": 7,
   "metadata": {},
   "outputs": [],
   "source": [
    "def wrap(x, y, z):\n",
    "    x1 = x * cos(y)\n",
    "    y1 = x * sin(y)\n",
    "    z1 = z\n",
    "    return (x1, y1, z1)"
   ]
  },
  {
   "cell_type": "markdown",
   "metadata": {},
   "source": [
    "This will let us scale the size of the figure (for instance, to scale from millimeters to centimeters):  "
   ]
  },
  {
   "cell_type": "code",
   "execution_count": 8,
   "metadata": {},
   "outputs": [],
   "source": [
    "def scale(x, y, z, scale_factor=1.0):\n",
    "    x1 = x * scale_factor\n",
    "    y1 = y * scale_factor\n",
    "    z1 = z * scale_factor\n",
    "    return (x1, y1, z1)"
   ]
  },
  {
   "cell_type": "markdown",
   "metadata": {},
   "source": [
    "We set up the parameter grid.  \n",
    "\n",
    "I used `t` and `u` in the simple example because that's what Grapher uses by default, and I used `u` and `v` in this example because it's what I'm used to.  Sorry if that's confusing.  Also, we are re-using variable names, which a good programmer doesn't do, but this is just messing around in an iPython session, so it doesn't matter.  "
   ]
  },
  {
   "cell_type": "code",
   "execution_count": 9,
   "metadata": {},
   "outputs": [],
   "source": [
    "inner = pi/2**5\n",
    "outer = pi/2\n",
    "\n",
    "du, dv = 0.05*pi, 0.01*pi\n",
    "u, v = mgrid[inner:outer+du:du, 0:2*pi+dv:dv]"
   ]
  },
  {
   "cell_type": "markdown",
   "metadata": {},
   "source": [
    "We make a new figure:  "
   ]
  },
  {
   "cell_type": "code",
   "execution_count": 10,
   "metadata": {},
   "outputs": [
    {
     "data": {
      "application/vnd.jupyter.widget-view+json": {
       "model_id": "a50d805b1377487ca0add8e8357fb2a6",
       "version_major": 2,
       "version_minor": 0
      },
      "text/plain": [
       "Image(value=b'\\x89PNG\\r\\n\\x1a\\n\\x00\\x00\\x00\\rIHDR\\x00\\x00\\x01\\x90\\x00\\x00\\x01^\\x08\\x02\\x00\\x00\\x00$?\\xde_\\x00\\…"
      ]
     },
     "metadata": {},
     "output_type": "display_data"
    }
   ],
   "source": [
    "fig2 = mlab.figure()\n",
    "mlab.mesh(*scale(*wrap(*ruffle(u, v)), scale_factor=10.0), figure=fig2)\n",
    "fig2"
   ]
  },
  {
   "cell_type": "markdown",
   "metadata": {},
   "source": [
    "## Exporting A `.obj` File From Mayavi\n",
    "Now we create a file that represents the shape of our equation in a 3D format that other programs can use:  "
   ]
  },
  {
   "cell_type": "code",
   "execution_count": 11,
   "metadata": {},
   "outputs": [],
   "source": [
    "filepath_obj = \"/data/notebooks/wrapped_ruffle.obj\"\n",
    "mlab.savefig(filepath_obj, figure=fig2)"
   ]
  },
  {
   "cell_type": "markdown",
   "metadata": {},
   "source": [
    "The file should be available in your local filesystem at `~/Documents/anethole-notebooks/data/notebooks`.  It's not ready to print yet, though.  The shape we've described has no thickness.  "
   ]
  },
  {
   "cell_type": "markdown",
   "metadata": {},
   "source": [
    "## Solidifying The Mesh And Exporting STL\n",
    "The PyMeshLab code in the following cells takes the surface in the `.obj` file, adds thickness to it, and exports the resulting mesh as a `.stl` file, a common 3D format.  Execute the following two cells now.  "
   ]
  },
  {
   "cell_type": "code",
   "execution_count": 12,
   "metadata": {},
   "outputs": [],
   "source": [
    "filepath_stl = \"/data/notebooks/wrapped_ruffle.stl\"\n",
    "thickness = 1.0"
   ]
  },
  {
   "cell_type": "code",
   "execution_count": 13,
   "metadata": {},
   "outputs": [],
   "source": [
    "ms = pymeshlab.MeshSet()\n",
    "ms.load_new_mesh(filepath_obj)\n",
    "ms.uniform_mesh_resampling(cellsize=0.25, offset=thickness/2, multisample=True, absdist=True)\n",
    "ms.vertex_attribute_transfer(sourcemesh=1, upperbound=1.5)\n",
    "ms.save_current_mesh(filepath_stl)"
   ]
  },
  {
   "cell_type": "markdown",
   "metadata": {},
   "source": [
    "## Looking At The `.stl` File In Meshlab\n",
    "Let's see what we've made.  In Finder, look in the directory `~/Documents/anethole-notebooks/data/notebooks` for the `.stl` file.  Run Meshlab, and open that file.  You will probably get a dialog about unifying vertices;  just click OK.  You should see a model of our surface, with thickness added.  You can click and drag to rotate the model.  "
   ]
  },
  {
   "cell_type": "markdown",
   "metadata": {},
   "source": [
    "## Uploading The `.stl` File To Shapeways For Printing\n",
    "I won't go over how to create an account at [Shapeways][1], because Shapeways offers plenty of information about their services on their website.  \n",
    "\n",
    "If you're willing to spend a few dollars to see this example through, sign up for an account at Shapeways, and upload the STL file we just created.  Their algorithms will check over the model for a few minutes.  3D printing is complex, and many models turn out not to be feasible to print.  These algorithms check for various problems, like areas that are too thin, or subtle mathematical problems with the model.  If the model passes the automated checks, 3D printing experts will check it, and may find problems the algorithms missed.  Correcting these problems is a big topic, and a challenging process.  I have printed the model we just made, and it passed all tests and printed well, so you shouldn't have to worry about that now, but when you upload your own experiments later, you may have more to learn.  \n",
    "\n",
    "I recommend printing the model in the material they call Versatile Plastic.  When I did, it cost less than ten dollars.  I now have a little piece of math I can keep in my pocket.  \n",
    "\n",
    "[1]: http://www.shapeways.com/"
   ]
  }
 ],
 "metadata": {
  "kernelspec": {
   "display_name": "Python 3",
   "language": "python",
   "name": "python3"
  },
  "language_info": {
   "codemirror_mode": {
    "name": "ipython",
    "version": 3
   },
   "file_extension": ".py",
   "mimetype": "text/x-python",
   "name": "python",
   "nbconvert_exporter": "python",
   "pygments_lexer": "ipython3",
   "version": "3.8.10"
  }
 },
 "nbformat": 4,
 "nbformat_minor": 4
}
